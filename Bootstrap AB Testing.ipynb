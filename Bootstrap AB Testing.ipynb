{
 "cells": [
  {
   "cell_type": "code",
   "execution_count": 29,
   "id": "68222a67",
   "metadata": {},
   "outputs": [],
   "source": [
    "from scipy import stats\n",
    "import numpy as np\n",
    "import pandas as pd\n",
    "import os\n",
    "import matplotlib.pyplot as plt\n",
    "import seaborn as sns\n",
    "\n",
    "# os.getcwd()\n",
    "\n",
    "# https://www.kaggle.com/code/somertonman/a-b-testing-bootstrap-statistics-step-by-step\n",
    "# https://www.kaggle.com/code/moghazy/easy-guide-a-b-testing-bootstrapping/notebook"
   ]
  },
  {
   "cell_type": "code",
   "execution_count": 22,
   "id": "f5427348",
   "metadata": {},
   "outputs": [
    {
     "data": {
      "text/html": [
       "<div>\n",
       "<style scoped>\n",
       "    .dataframe tbody tr th:only-of-type {\n",
       "        vertical-align: middle;\n",
       "    }\n",
       "\n",
       "    .dataframe tbody tr th {\n",
       "        vertical-align: top;\n",
       "    }\n",
       "\n",
       "    .dataframe thead th {\n",
       "        text-align: right;\n",
       "    }\n",
       "</style>\n",
       "<table border=\"1\" class=\"dataframe\">\n",
       "  <thead>\n",
       "    <tr style=\"text-align: right;\">\n",
       "      <th></th>\n",
       "      <th>user_id</th>\n",
       "      <th>test_group</th>\n",
       "      <th>converted</th>\n",
       "      <th>total_ads</th>\n",
       "      <th>most_ads_day</th>\n",
       "      <th>most_ads_hour</th>\n",
       "    </tr>\n",
       "  </thead>\n",
       "  <tbody>\n",
       "    <tr>\n",
       "      <th>0</th>\n",
       "      <td>1069124</td>\n",
       "      <td>ad</td>\n",
       "      <td>False</td>\n",
       "      <td>130</td>\n",
       "      <td>Monday</td>\n",
       "      <td>20</td>\n",
       "    </tr>\n",
       "    <tr>\n",
       "      <th>1</th>\n",
       "      <td>1119715</td>\n",
       "      <td>ad</td>\n",
       "      <td>False</td>\n",
       "      <td>93</td>\n",
       "      <td>Tuesday</td>\n",
       "      <td>22</td>\n",
       "    </tr>\n",
       "    <tr>\n",
       "      <th>2</th>\n",
       "      <td>1144181</td>\n",
       "      <td>ad</td>\n",
       "      <td>False</td>\n",
       "      <td>21</td>\n",
       "      <td>Tuesday</td>\n",
       "      <td>18</td>\n",
       "    </tr>\n",
       "    <tr>\n",
       "      <th>3</th>\n",
       "      <td>1435133</td>\n",
       "      <td>ad</td>\n",
       "      <td>False</td>\n",
       "      <td>355</td>\n",
       "      <td>Tuesday</td>\n",
       "      <td>10</td>\n",
       "    </tr>\n",
       "    <tr>\n",
       "      <th>4</th>\n",
       "      <td>1015700</td>\n",
       "      <td>ad</td>\n",
       "      <td>False</td>\n",
       "      <td>276</td>\n",
       "      <td>Friday</td>\n",
       "      <td>14</td>\n",
       "    </tr>\n",
       "  </tbody>\n",
       "</table>\n",
       "</div>"
      ],
      "text/plain": [
       "   user_id test_group  converted  total_ads most_ads_day  most_ads_hour\n",
       "0  1069124         ad      False        130       Monday             20\n",
       "1  1119715         ad      False         93      Tuesday             22\n",
       "2  1144181         ad      False         21      Tuesday             18\n",
       "3  1435133         ad      False        355      Tuesday             10\n",
       "4  1015700         ad      False        276       Friday             14"
      ]
     },
     "execution_count": 22,
     "metadata": {},
     "output_type": "execute_result"
    }
   ],
   "source": [
    "df = pd.read_csv('marketing_AB.csv')\n",
    "\n",
    "if \"Unnamed: 0\" in df.columns:\n",
    "   \n",
    "    df = df.drop([\"Unnamed: 0\"], axis =1)\n",
    "\n",
    "df.rename(columns=lambda x: x.strip().replace(\" \", \"_\"), inplace=True)\n",
    "\n",
    "df.head()"
   ]
  },
  {
   "cell_type": "code",
   "execution_count": 23,
   "id": "5da67dc9",
   "metadata": {},
   "outputs": [
    {
     "data": {
      "text/html": [
       "<div>\n",
       "<style scoped>\n",
       "    .dataframe tbody tr th:only-of-type {\n",
       "        vertical-align: middle;\n",
       "    }\n",
       "\n",
       "    .dataframe tbody tr th {\n",
       "        vertical-align: top;\n",
       "    }\n",
       "\n",
       "    .dataframe thead th {\n",
       "        text-align: right;\n",
       "    }\n",
       "</style>\n",
       "<table border=\"1\" class=\"dataframe\">\n",
       "  <thead>\n",
       "    <tr style=\"text-align: right;\">\n",
       "      <th></th>\n",
       "      <th>test_group</th>\n",
       "      <th>converted</th>\n",
       "    </tr>\n",
       "  </thead>\n",
       "  <tbody>\n",
       "    <tr>\n",
       "      <th>0</th>\n",
       "      <td>ad</td>\n",
       "      <td>False</td>\n",
       "    </tr>\n",
       "    <tr>\n",
       "      <th>1</th>\n",
       "      <td>ad</td>\n",
       "      <td>False</td>\n",
       "    </tr>\n",
       "    <tr>\n",
       "      <th>2</th>\n",
       "      <td>ad</td>\n",
       "      <td>False</td>\n",
       "    </tr>\n",
       "    <tr>\n",
       "      <th>3</th>\n",
       "      <td>ad</td>\n",
       "      <td>False</td>\n",
       "    </tr>\n",
       "    <tr>\n",
       "      <th>4</th>\n",
       "      <td>ad</td>\n",
       "      <td>False</td>\n",
       "    </tr>\n",
       "  </tbody>\n",
       "</table>\n",
       "</div>"
      ],
      "text/plain": [
       "  test_group  converted\n",
       "0         ad      False\n",
       "1         ad      False\n",
       "2         ad      False\n",
       "3         ad      False\n",
       "4         ad      False"
      ]
     },
     "execution_count": 23,
     "metadata": {},
     "output_type": "execute_result"
    }
   ],
   "source": [
    "df = df.drop(['total_ads'], axis =1)\n",
    "df = df.drop(['most_ads_day'], axis =1)\n",
    "df = df.drop(['most_ads_hour'], axis =1)\n",
    "df = df.drop(['user_id'], axis = 1)\n",
    "df.head()"
   ]
  },
  {
   "cell_type": "code",
   "execution_count": 24,
   "id": "fca792b0",
   "metadata": {},
   "outputs": [
    {
     "data": {
      "text/html": [
       "<div>\n",
       "<style scoped>\n",
       "    .dataframe tbody tr th:only-of-type {\n",
       "        vertical-align: middle;\n",
       "    }\n",
       "\n",
       "    .dataframe tbody tr th {\n",
       "        vertical-align: top;\n",
       "    }\n",
       "\n",
       "    .dataframe thead th {\n",
       "        text-align: right;\n",
       "    }\n",
       "</style>\n",
       "<table border=\"1\" class=\"dataframe\">\n",
       "  <thead>\n",
       "    <tr style=\"text-align: right;\">\n",
       "      <th></th>\n",
       "      <th>test_group</th>\n",
       "      <th>converted</th>\n",
       "    </tr>\n",
       "  </thead>\n",
       "  <tbody>\n",
       "    <tr>\n",
       "      <th>0</th>\n",
       "      <td>treatment</td>\n",
       "      <td>0</td>\n",
       "    </tr>\n",
       "    <tr>\n",
       "      <th>1</th>\n",
       "      <td>treatment</td>\n",
       "      <td>0</td>\n",
       "    </tr>\n",
       "    <tr>\n",
       "      <th>2</th>\n",
       "      <td>treatment</td>\n",
       "      <td>0</td>\n",
       "    </tr>\n",
       "    <tr>\n",
       "      <th>3</th>\n",
       "      <td>treatment</td>\n",
       "      <td>0</td>\n",
       "    </tr>\n",
       "    <tr>\n",
       "      <th>4</th>\n",
       "      <td>treatment</td>\n",
       "      <td>0</td>\n",
       "    </tr>\n",
       "  </tbody>\n",
       "</table>\n",
       "</div>"
      ],
      "text/plain": [
       "  test_group  converted\n",
       "0  treatment          0\n",
       "1  treatment          0\n",
       "2  treatment          0\n",
       "3  treatment          0\n",
       "4  treatment          0"
      ]
     },
     "execution_count": 24,
     "metadata": {},
     "output_type": "execute_result"
    }
   ],
   "source": [
    "df['test_group'] = df['test_group'].replace(['ad'], 'treatment')\n",
    "df['test_group'] = df['test_group'].replace(['psa'], 'control')\n",
    "\n",
    "df['converted'] = df['converted'].replace([True], 1)\n",
    "df['converted'] = df['converted'].replace([False], 0)\n",
    "\n",
    "df.head()"
   ]
  },
  {
   "cell_type": "code",
   "execution_count": 25,
   "id": "4b5e64cc",
   "metadata": {},
   "outputs": [],
   "source": [
    "# make pivot table\n",
    "ab_summary = df.pivot_table(values='converted', index='test_group', aggfunc=np.sum)\n",
    "\n",
    "# add additional columns to the pivot table\n",
    "ab_summary['total'] = df.pivot_table(values='converted', index='test_group', aggfunc=lambda x: len(x))\n",
    "ab_summary['rate'] = df.pivot_table(values='converted', index='test_group')"
   ]
  },
  {
   "cell_type": "code",
   "execution_count": 10,
   "id": "e99dd170",
   "metadata": {},
   "outputs": [
    {
     "data": {
      "text/html": [
       "<div>\n",
       "<style scoped>\n",
       "    .dataframe tbody tr th:only-of-type {\n",
       "        vertical-align: middle;\n",
       "    }\n",
       "\n",
       "    .dataframe tbody tr th {\n",
       "        vertical-align: top;\n",
       "    }\n",
       "\n",
       "    .dataframe thead th {\n",
       "        text-align: right;\n",
       "    }\n",
       "</style>\n",
       "<table border=\"1\" class=\"dataframe\">\n",
       "  <thead>\n",
       "    <tr style=\"text-align: right;\">\n",
       "      <th></th>\n",
       "      <th>converted</th>\n",
       "      <th>total</th>\n",
       "      <th>rate</th>\n",
       "    </tr>\n",
       "    <tr>\n",
       "      <th>test_group</th>\n",
       "      <th></th>\n",
       "      <th></th>\n",
       "      <th></th>\n",
       "    </tr>\n",
       "  </thead>\n",
       "  <tbody>\n",
       "    <tr>\n",
       "      <th>control</th>\n",
       "      <td>420</td>\n",
       "      <td>23524</td>\n",
       "      <td>0.017854</td>\n",
       "    </tr>\n",
       "    <tr>\n",
       "      <th>treatment</th>\n",
       "      <td>14423</td>\n",
       "      <td>564577</td>\n",
       "      <td>0.025547</td>\n",
       "    </tr>\n",
       "  </tbody>\n",
       "</table>\n",
       "</div>"
      ],
      "text/plain": [
       "            converted   total      rate\n",
       "test_group                             \n",
       "control           420   23524  0.017854\n",
       "treatment       14423  564577  0.025547"
      ]
     },
     "execution_count": 10,
     "metadata": {},
     "output_type": "execute_result"
    }
   ],
   "source": [
    "ab_summary"
   ]
  },
  {
   "cell_type": "code",
   "execution_count": 28,
   "id": "abcf705c",
   "metadata": {},
   "outputs": [],
   "source": [
    "# Bootstrap\n",
    "\n",
    "# Calculate the observed difference and the conversion for the groups\n",
    "#    Args:\n",
    "#       df: input DataFrame object\n",
    "#    Returns:\n",
    "#        ob_dif: difference between group conversion rates\n",
    "#        data_control_conv: Conversion Rate for the control\n",
    "#        data_exp_conv: Conversion Rate for the experimental\n",
    "\n",
    "def get_obbs_diff(df):\n",
    "\n",
    "    # Split into control & experimental groups\n",
    "    data_control = df[df[\"test_group\"] == \"control\"]\n",
    "    data_exp = df[df[\"test_group\"] == \"treatment\"]\n",
    "    \n",
    "    # Calculate the mean conversion rate for each group\n",
    "    data_control_conv = data_control.converted.mean()\n",
    "    data_exp_conv = data_exp.converted.mean()\n",
    "\n",
    "    # Calculate the differnce in mean conversion rate between groups\n",
    "    ob_dif = data_exp_conv - data_control_conv\n",
    "\n",
    "    return ob_dif, data_control_conv, data_exp_conv\n",
    "\n",
    "obs , _, _ = get_obbs_diff(df)\n"
   ]
  },
  {
   "cell_type": "code",
   "execution_count": 73,
   "id": "76096b76",
   "metadata": {},
   "outputs": [
    {
     "data": {
      "image/png": "[encoded data removed]",
      "text/plain": [
       "<Figure size 640x480 with 1 Axes>"
      ]
     },
     "metadata": {},
     "output_type": "display_data"
    },
    {
     "data": {
      "image/png": "[encoded data removed]",
      "text/plain": [
       "<Figure size 640x480 with 1 Axes>"
      ]
     },
     "metadata": {},
     "output_type": "display_data"
    }
   ],
   "source": [
    "boot_mean = []; boot_mean_control = []; boot_mean_exp = []\n",
    "\n",
    "# Bootstrap Sampling to get the test statestic distribution\n",
    "\n",
    "for i in range(10000):\n",
    "    boot_sample = df.sample(frac=1, replace=True) # for each run, take a random sample equivalent to 100% of the number of observations in the data set with replacement\n",
    "    boot_diff, boot_mean_control_tmp, boot_mean_exp_tmp = get_obbs_diff(boot_sample)\n",
    "    boot_mean.append(boot_diff)\n",
    "    boot_mean_exp.append(boot_mean_exp_tmp)\n",
    "    boot_mean_control.append(boot_mean_control_tmp)\n",
    "    \n",
    "# Now let's show the difference between the distributions on a plot\n",
    "# the more seperated the graph the more we can predict that we might \n",
    "# accept the Alternative hypothesis if it is in the right direction\n",
    "boot_gr = pd.DataFrame({\"control\": boot_mean_control, \"exp\": boot_mean_exp})\n",
    "boot_gr.plot(kind='kde')\n",
    "plt.show()\n",
    "\n",
    "# We can also see the difference as a dist plot here\n",
    "ax = sns.kdeplot(np.array(boot_mean))"
   ]
  },
  {
   "cell_type": "code",
   "execution_count": 74,
   "id": "54efa406",
   "metadata": {},
   "outputs": [
    {
     "data": {
      "text/plain": [
       "1.0"
      ]
     },
     "execution_count": 74,
     "metadata": {},
     "output_type": "execute_result"
    }
   ],
   "source": [
    "prob = (np.array(boot_mean) > 0).mean()\n",
    "prob"
   ]
  },
  {
   "cell_type": "code",
   "execution_count": 70,
   "id": "1f337b8e",
   "metadata": {},
   "outputs": [
    {
     "data": {
      "text/plain": [
       "0.374"
      ]
     },
     "execution_count": 70,
     "metadata": {},
     "output_type": "execute_result"
    },
    {
     "data": {
      "image/png": "[encoded data removed]",
      "text/plain": [
       "<Figure size 640x480 with 1 Axes>"
      ]
     },
     "metadata": {},
     "output_type": "display_data"
    }
   ],
   "source": [
    "standard_dev = np.array(boot_mean).std()\n",
    "h_ = np.random.normal(0, standard_dev, np.array(boot_mean).shape)\n",
    "sns.kdeplot(h_)\n",
    "plt.axvline(obs, color = \"r\")\n",
    "\n",
    "p_val = (h_ > obs).mean()\n",
    "p_val"
   ]
  },
  {
   "cell_type": "code",
   "execution_count": 62,
   "id": "3e7599c9",
   "metadata": {},
   "outputs": [
    {
     "data": {
      "text/html": [
       "<div>\n",
       "<style scoped>\n",
       "    .dataframe tbody tr th:only-of-type {\n",
       "        vertical-align: middle;\n",
       "    }\n",
       "\n",
       "    .dataframe tbody tr th {\n",
       "        vertical-align: top;\n",
       "    }\n",
       "\n",
       "    .dataframe thead th {\n",
       "        text-align: right;\n",
       "    }\n",
       "</style>\n",
       "<table border=\"1\" class=\"dataframe\">\n",
       "  <thead>\n",
       "    <tr style=\"text-align: right;\">\n",
       "      <th></th>\n",
       "      <th>control</th>\n",
       "      <th>exp</th>\n",
       "      <th>diff</th>\n",
       "    </tr>\n",
       "  </thead>\n",
       "  <tbody>\n",
       "    <tr>\n",
       "      <th>0</th>\n",
       "      <td>0.017481</td>\n",
       "      <td>0.025351</td>\n",
       "      <td>0.007871</td>\n",
       "    </tr>\n",
       "    <tr>\n",
       "      <th>1</th>\n",
       "      <td>0.017933</td>\n",
       "      <td>0.025434</td>\n",
       "      <td>0.007501</td>\n",
       "    </tr>\n",
       "    <tr>\n",
       "      <th>2</th>\n",
       "      <td>0.017402</td>\n",
       "      <td>0.025160</td>\n",
       "      <td>0.007758</td>\n",
       "    </tr>\n",
       "    <tr>\n",
       "      <th>3</th>\n",
       "      <td>0.015649</td>\n",
       "      <td>0.025384</td>\n",
       "      <td>0.009735</td>\n",
       "    </tr>\n",
       "    <tr>\n",
       "      <th>4</th>\n",
       "      <td>0.018693</td>\n",
       "      <td>0.025182</td>\n",
       "      <td>0.006489</td>\n",
       "    </tr>\n",
       "    <tr>\n",
       "      <th>...</th>\n",
       "      <td>...</td>\n",
       "      <td>...</td>\n",
       "      <td>...</td>\n",
       "    </tr>\n",
       "    <tr>\n",
       "      <th>95</th>\n",
       "      <td>0.017770</td>\n",
       "      <td>0.025462</td>\n",
       "      <td>0.007692</td>\n",
       "    </tr>\n",
       "    <tr>\n",
       "      <th>96</th>\n",
       "      <td>0.018371</td>\n",
       "      <td>0.025331</td>\n",
       "      <td>0.006960</td>\n",
       "    </tr>\n",
       "    <tr>\n",
       "      <th>97</th>\n",
       "      <td>0.016802</td>\n",
       "      <td>0.025322</td>\n",
       "      <td>0.008520</td>\n",
       "    </tr>\n",
       "    <tr>\n",
       "      <th>98</th>\n",
       "      <td>0.018117</td>\n",
       "      <td>0.025560</td>\n",
       "      <td>0.007442</td>\n",
       "    </tr>\n",
       "    <tr>\n",
       "      <th>99</th>\n",
       "      <td>0.018744</td>\n",
       "      <td>0.025858</td>\n",
       "      <td>0.007114</td>\n",
       "    </tr>\n",
       "  </tbody>\n",
       "</table>\n",
       "<p>100 rows × 3 columns</p>\n",
       "</div>"
      ],
      "text/plain": [
       "     control       exp      diff\n",
       "0   0.017481  0.025351  0.007871\n",
       "1   0.017933  0.025434  0.007501\n",
       "2   0.017402  0.025160  0.007758\n",
       "3   0.015649  0.025384  0.009735\n",
       "4   0.018693  0.025182  0.006489\n",
       "..       ...       ...       ...\n",
       "95  0.017770  0.025462  0.007692\n",
       "96  0.018371  0.025331  0.006960\n",
       "97  0.016802  0.025322  0.008520\n",
       "98  0.018117  0.025560  0.007442\n",
       "99  0.018744  0.025858  0.007114\n",
       "\n",
       "[100 rows x 3 columns]"
      ]
     },
     "execution_count": 62,
     "metadata": {},
     "output_type": "execute_result"
    }
   ],
   "source": [
    "boot_all = pd.DataFrame({\"control\": boot_mean_control, \"exp\": boot_mean_exp, 'diff' : boot_mean})\n",
    "boot_all\n"
   ]
  }
 ],
 "metadata": {
  "kernelspec": {
   "display_name": "Python 3 (ipykernel)",
   "language": "python",
   "name": "python3"
  },
  "language_info": {
   "codemirror_mode": {
    "name": "ipython",
    "version": 3
   },
   "file_extension": ".py",
   "mimetype": "text/x-python",
   "name": "python",
   "nbconvert_exporter": "python",
   "pygments_lexer": "ipython3",
   "version": "3.10.9"
  }
 },
 "nbformat": 4,
 "nbformat_minor": 5
}
